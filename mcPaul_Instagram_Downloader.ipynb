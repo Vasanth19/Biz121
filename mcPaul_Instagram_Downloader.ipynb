{
  "cells": [
    {
      "cell_type": "markdown",
      "metadata": {
        "id": "view-in-github",
        "colab_type": "text"
      },
      "source": [
        "<a href=\"https://colab.research.google.com/github/Vasanth19/Biz121/blob/master/mcPaul_Instagram_Downloader.ipynb\" target=\"_parent\"><img src=\"https://colab.research.google.com/assets/colab-badge.svg\" alt=\"Open In Colab\"/></a>"
      ]
    },
    {
      "cell_type": "code",
      "source": [
        "from google.colab import drive\n",
        "drive.mount('/content/drive')"
      ],
      "metadata": {
        "id": "eCFqoLGpLjNC"
      },
      "execution_count": null,
      "outputs": []
    },
    {
      "cell_type": "code",
      "execution_count": null,
      "metadata": {
        "cellView": "form",
        "id": "YpzAx8gBOirk"
      },
      "outputs": [],
      "source": [
        "# @title Input Area\n",
        "\n",
        "file_name = '/content/bd-similar-creators - Carousels.csv' # @param {type:'string'}\n",
        "\n",
        "drive_folder = '/content/drive/MyDrive/Backups' # @param {type:'string'}"
      ]
    },
    {
      "cell_type": "code",
      "execution_count": null,
      "metadata": {
        "cellView": "form",
        "id": "By8yHtmIs3CB"
      },
      "outputs": [],
      "source": [
        "# @title Code Area\n",
        "\n",
        "import warnings\n",
        "import os\n",
        "import shutil\n",
        "import json\n",
        "import zipfile\n",
        "from tqdm import tqdm\n",
        "import requests\n",
        "import pandas as pd\n",
        "\n",
        "warnings.filterwarnings('ignore')\n",
        "\n",
        "df = pd.read_csv(file_name)\n",
        "posts = df['url'].tolist()\n",
        "print(f'Found {len(posts)} posts', end='\\n\\n')\n",
        "\n",
        "\n",
        "def get_data(url):\n",
        "    endpoint = 'https://fastdl.app/api/convert'\n",
        "\n",
        "    payload = json.dumps({\n",
        "      'url': url\n",
        "    })\n",
        "\n",
        "    headers = {\n",
        "      'accept': 'application/json, text/plain, */*',\n",
        "      'accept-language': 'en-US,en;q=0.9,tr;q=0.8',\n",
        "      'cache-control': 'no-cache',\n",
        "      'content-type': 'application/json',\n",
        "      'origin': 'https://fastdl.app',\n",
        "      'pragma': 'no-cache',\n",
        "      'referer': 'https://fastdl.app/en',\n",
        "      'user-agent': 'Mozilla/5.0 (Linux; Android 6.0; Nexus 5 Build/MRA58N) AppleWebKit/537.36 (KHTML, like Gecko) Chrome/125.0.0.0 Mobile Safari/537.36'\n",
        "    }\n",
        "\n",
        "    response = requests.request('POST', endpoint, headers=headers, data=payload)\n",
        "    assert response.status_code == 200\n",
        "    return response.json()\n",
        "\n",
        "\n",
        "folder_names = []\n",
        "\n",
        "\n",
        "for post in tqdm(posts):\n",
        "    try:\n",
        "        data = get_data(post)\n",
        "    except:\n",
        "        continue\n",
        "\n",
        "    try:\n",
        "        title = data[0]['meta']['title']\n",
        "    except:\n",
        "        title = data['meta']['title']\n",
        "\n",
        "    folder_name = title[:20]\n",
        "    os.makedirs(folder_name, exist_ok=True)\n",
        "\n",
        "    if type(data) != list:\n",
        "        try:\n",
        "            url = data['url'][0]['url']\n",
        "            extention = data['url'][0]['ext']\n",
        "\n",
        "            r = requests.get(url)\n",
        "\n",
        "            with open(os.path.join(folder_name, f'1.{extention}'), 'wb') as f:\n",
        "                f.write(r.content)\n",
        "\n",
        "            folder_names.append(folder_name)\n",
        "        except:\n",
        "            continue\n",
        "    else:\n",
        "        try:\n",
        "            for idx, item in enumerate(data):\n",
        "                url = item['url'][0]['url']\n",
        "                extention = item['url'][0]['ext']\n",
        "\n",
        "                r = requests.get(url)\n",
        "\n",
        "                with open(os.path.join(folder_name, f'{idx + 1}.{extention}'), 'wb') as f:\n",
        "                    f.write(r.content)\n",
        "\n",
        "            folder_names.append(folder_name)\n",
        "        except:\n",
        "            continue\n",
        "\n",
        "\n",
        "with zipfile.ZipFile('Instagram Downloader Output.zip', 'w') as zip_file:\n",
        "    for folder in folder_names:\n",
        "        for root, dirs, files in os.walk(folder):\n",
        "            for file in files:\n",
        "                file_path = os.path.join(root, file)\n",
        "                arcname = os.path.relpath(file_path, os.path.join(folder, '..'))\n",
        "                zip_file.write(file_path, arcname)\n",
        "\n",
        "\n",
        "for folder in folder_names:\n",
        "    try:\n",
        "        shutil.rmtree(folder)\n",
        "    except:\n",
        "        pass\n",
        "\n",
        "\n",
        "shutil.move('Instagram Downloader Output.zip', drive_folder)\n",
        "print(f'\\nDownloaded {len(posts)} posts and zipped them into Instagram Downloader Output.zip')"
      ]
    }
  ],
  "metadata": {
    "colab": {
      "provenance": [],
      "include_colab_link": true
    },
    "kernelspec": {
      "display_name": "Python 3",
      "name": "python3"
    },
    "language_info": {
      "name": "python"
    }
  },
  "nbformat": 4,
  "nbformat_minor": 0
}